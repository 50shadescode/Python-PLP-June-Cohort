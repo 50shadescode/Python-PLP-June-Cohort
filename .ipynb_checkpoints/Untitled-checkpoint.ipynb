{
 "cells": [
  {
   "cell_type": "code",
   "execution_count": 2,
   "id": "b322f4cd-aebf-446a-a5cc-4f0212f4f3da",
   "metadata": {},
   "outputs": [],
   "source": [
    "#import the files \n",
    "import numpy as np\n",
    "import pandas as pd\n",
    "import matplotlib.pyplot as plt\n",
    "import requests"
   ]
  },
  {
   "cell_type": "code",
   "execution_count": 4,
   "id": "2f70a1aa-6319-494e-9055-8ccca6f2eae7",
   "metadata": {},
   "outputs": [
    {
     "name": "stdout",
     "output_type": "stream",
     "text": [
      "NumPy Array: [ 1  2  3  4  5  6  7  8  9 10]\n",
      "Mean of Array: 5.5\n"
     ]
    }
   ],
   "source": [
    "# step 2: numpy array and mean\n",
    "arr = np.arange(1, 11)  # numbers 1 to 10\n",
    "mean_value = np.mean(arr)\n",
    "print(\"NumPy Array:\", arr)\n",
    "print(\"Mean of Array:\", mean_value)"
   ]
  },
  {
   "cell_type": "code",
   "execution_count": 10,
   "id": "f01d6f4c-1709-4df0-944d-3098e26e8342",
   "metadata": {},
   "outputs": [
    {
     "name": "stdout",
     "output_type": "stream",
     "text": [
      "\n",
      "Pandas DataFrame:\n",
      "       Name  Age  Salary\n",
      "0    Alice   25   50000\n",
      "1      Bob   30   60000\n",
      "2  Charlie   35   75000\n",
      "3    David   40   90000\n",
      "\n",
      "Summary Statistics:\n",
      "              Age   Salary\n",
      "count   4.000000      4.0\n",
      "mean   32.500000  68750.0\n",
      "std     6.454972  17500.0\n",
      "min    25.000000  50000.0\n",
      "25%    28.750000  57500.0\n",
      "50%    32.500000  67500.0\n",
      "75%    36.250000  78750.0\n",
      "max    40.000000  90000.0\n"
     ]
    }
   ],
   "source": [
    "# step 3: pandas dataframe\n",
    "data = {\n",
    "    'Name': ['Alice', 'Bob', 'Charlie', 'David'],\n",
    "    'Age': [25, 30, 35, 40],\n",
    "    'Salary': [50000, 60000, 75000, 90000]\n",
    "}\n",
    "df = pd.DataFrame(data)\n",
    "print(\"\\nPandas DataFrame:\\n\", df)\n",
    "print(\"\\nSummary Statistics:\\n\", df.describe())"
   ]
  },
  {
   "cell_type": "code",
   "execution_count": 16,
   "id": "e59a5d63-1ec6-40cf-8559-245ed793a8d1",
   "metadata": {},
   "outputs": [
    {
     "name": "stdout",
     "output_type": "stream",
     "text": [
      "\n",
      "Weather in Nairobi: 19.3°C, Partly cloudy, Humidity: 64%\n"
     ]
    }
   ],
   "source": [
    "#step 4: API request\n",
    "city = \"Nairobi\"\n",
    "api_key = \"ee6409b7e90d4864b01224150251206\"  # your API key\n",
    "url = f\"http://api.weatherapi.com/v1/current.json?key={api_key}&q={city}\"\n",
    "\n",
    "response = requests.get(url)  # <-- now it's on its own line\n",
    "\n",
    "if response.status_code == 200:\n",
    "    weather_data = response.json()\n",
    "    temp = weather_data['current']['temp_c']\n",
    "    condition = weather_data['current']['condition']['text']\n",
    "    humidity = weather_data['current']['humidity']\n",
    "    print(f\"\\nWeather in {city}: {temp}°C, {condition}, Humidity: {humidity}%\")\n",
    "else:\n",
    "    print(\"\\nAPI Request Failed:\", response.status_code)\n"
   ]
  },
  {
   "cell_type": "code",
   "execution_count": 18,
   "id": "ed181a2c-40bd-40c1-83e0-a67c09e977d9",
   "metadata": {},
   "outputs": [
    {
     "data": {
      "image/png": "[encoded data removed]",
      "text/plain": [
       "<Figure size 640x480 with 1 Axes>"
      ]
     },
     "metadata": {},
     "output_type": "display_data"
    }
   ],
   "source": [
    "# Step 5 Matplotlib\n",
    "x = [1, 2, 3, 4, 5]\n",
    "y = [1, 4, 9, 16, 25]  # squares\n",
    "plt.plot(x, y, marker='o', color='blue')\n",
    "plt.title(\"Simple Line Graph\")\n",
    "plt.xlabel(\"X-axis\")\n",
    "plt.ylabel(\"Y-axis (squares)\")\n",
    "plt.grid(True)\n",
    "plt.show()"
   ]
  },
  {
   "cell_type": "code",
   "execution_count": null,
   "id": "8a289e70-e966-43e5-b48c-1214d37824aa",
   "metadata": {},
   "outputs": [],
   "source": []
  }
 ],
 "metadata": {
  "kernelspec": {
   "display_name": "Python [conda env:base] *",
   "language": "python",
   "name": "conda-base-py"
  },
  "language_info": {
   "codemirror_mode": {
    "name": "ipython",
    "version": 3
   },
   "file_extension": ".py",
   "mimetype": "text/x-python",
   "name": "python",
   "nbconvert_exporter": "python",
   "pygments_lexer": "ipython3",
   "version": "3.12.7"
  }
 },
 "nbformat": 4,
 "nbformat_minor": 5
}
